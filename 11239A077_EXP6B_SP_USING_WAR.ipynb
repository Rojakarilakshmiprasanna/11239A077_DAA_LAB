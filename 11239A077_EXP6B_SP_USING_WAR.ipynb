{
  "nbformat": 4,
  "nbformat_minor": 0,
  "metadata": {
    "colab": {
      "provenance": [],
      "authorship_tag": "ABX9TyNwS+l6FPUkc8/wUlCSYZ4R",
      "include_colab_link": true
    },
    "kernelspec": {
      "name": "python3",
      "display_name": "Python 3"
    },
    "language_info": {
      "name": "python"
    }
  },
  "cells": [
    {
      "cell_type": "markdown",
      "metadata": {
        "id": "view-in-github",
        "colab_type": "text"
      },
      "source": [
        "<a href=\"https://colab.research.google.com/github/Rojakarilakshmiprasanna/11239A077_DAA_LAB/blob/main/11239A077_EXP6B_SP_USING_WAR.ipynb\" target=\"_parent\"><img src=\"https://colab.research.google.com/assets/colab-badge.svg\" alt=\"Open In Colab\"/></a>"
      ]
    },
    {
      "cell_type": "code",
      "execution_count": 2,
      "metadata": {
        "colab": {
          "base_uri": "https://localhost:8080/"
        },
        "id": "Jo4ihRRDit_P",
        "outputId": "d2cd0a29-581e-49da-fbe3-f4d06fa142aa"
      },
      "outputs": [
        {
          "output_type": "stream",
          "name": "stdout",
          "text": [
            "Shortest path distance matrix:\n",
            "[[0. 1. 3.]\n",
            " [1. 0. 2.]\n",
            " [3. 2. 0.]]\n"
          ]
        }
      ],
      "source": [
        "import numpy as np\n",
        "\n",
        "def floyd_warshall(graph):\n",
        "    num_vertices = len(graph)\n",
        "    distance = np.full((num_vertices, num_vertices), np.inf)\n",
        "\n",
        "    # Step 1 & 2: Initialize distance matrix\n",
        "    for i in range(num_vertices):\n",
        "        distance[i][i] = 0\n",
        "        for j in range(num_vertices):\n",
        "            if graph[i][j] != 0:\n",
        "                distance[i][j] = graph[i][j]\n",
        "\n",
        "    # Step 3 & 4: Floyd-Warshall algorithm\n",
        "    for k in range(num_vertices):\n",
        "        for i in range(num_vertices):\n",
        "            for j in range(num_vertices):\n",
        "                if distance[i][j] > distance[i][k] + distance[k][j]:\n",
        "                    distance[i][j] = distance[i][k] + distance[k][j]\n",
        "\n",
        "    # Step 5: Return distance matrix\n",
        "    return distance\n",
        "\n",
        "# Step 6: Define the graph\n",
        "graph = [\n",
        "    [0, 1, np.inf],\n",
        "    [1, 0, 2],\n",
        "    [np.inf, 2, 0]\n",
        "]\n",
        "\n",
        "# Call the function\n",
        "shortest_paths = floyd_warshall(graph)\n",
        "\n",
        "# Output the result\n",
        "print(\"Shortest path distance matrix:\")\n",
        "print(shortest_paths)"
      ]
    }
  ]
}