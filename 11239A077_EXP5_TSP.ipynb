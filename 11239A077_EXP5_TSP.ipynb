{
  "nbformat": 4,
  "nbformat_minor": 0,
  "metadata": {
    "colab": {
      "provenance": [],
      "authorship_tag": "ABX9TyP3Z/qb6I7fbQA7D3Do/fTu",
      "include_colab_link": true
    },
    "kernelspec": {
      "name": "python3",
      "display_name": "Python 3"
    },
    "language_info": {
      "name": "python"
    }
  },
  "cells": [
    {
      "cell_type": "markdown",
      "metadata": {
        "id": "view-in-github",
        "colab_type": "text"
      },
      "source": [
        "<a href=\"https://colab.research.google.com/github/Rojakarilakshmiprasanna/11239A077_DAA_LAB/blob/main/11239A077_EXP5_TSP.ipynb\" target=\"_parent\"><img src=\"https://colab.research.google.com/assets/colab-badge.svg\" alt=\"Open In Colab\"/></a>"
      ]
    },
    {
      "cell_type": "code",
      "execution_count": 1,
      "metadata": {
        "colab": {
          "base_uri": "https://localhost:8080/"
        },
        "id": "-hmprEkRATmz",
        "outputId": "7d1eed49-388c-459a-d75a-1841e8108aef"
      },
      "outputs": [
        {
          "output_type": "stream",
          "name": "stdout",
          "text": [
            "Minimum cost: 80\n",
            "Shortest path: [0, 0, 2, 3, 1]\n"
          ]
        }
      ],
      "source": [
        "\n",
        "def tsp_with_path(dist):\n",
        "    n = len(dist)\n",
        "    # Initialize the DP table and a path table to reconstruct the path\n",
        "    dp = [[float('inf')] * n for _ in range(1 << n)]\n",
        "    path = [[-1] * n for _ in range(1 << n)]\n",
        "\n",
        "    dp[1][0] = 0  # Starting at city 0\n",
        "    # Iterate over all subsets of cities\n",
        "    for mask in range(1 << n):\n",
        "        for i in range(n):\n",
        "            if mask & (1 << i):  # If city i is in the subset\n",
        "                for j in range(n):\n",
        "                    if mask & (1 << j) and i != j:  # If city j is in the subset and not i\n",
        "                        if dp[mask ^ (1 << i)][j] + dist[j][i] < dp[mask][i]:\n",
        "                            dp[mask][i] = dp[mask ^ (1 << i)][j] + dist[j][i]\n",
        "                            path[mask][i] = j  # Store the previous city\n",
        "    # Reconstruct the minimum cost to return to the starting city\n",
        "    min_cost = float('inf')\n",
        "    last_city = -1\n",
        "    final_mask = (1 << n) - 1\n",
        "    for i in range(1, n):\n",
        "        if dp[final_mask][i] + dist[i][0] < min_cost:\n",
        "            min_cost = dp[final_mask][i] + dist[i][0]\n",
        "            last_city = i\n",
        "    # Reconstruct the path\n",
        "    tour = []\n",
        "    mask = final_mask\n",
        "    for _ in range(n):\n",
        "        tour.append(last_city)\n",
        "        next_city = path[mask][last_city]\n",
        "        mask ^= (1 << last_city)\n",
        "        last_city = next_city\n",
        "    tour.append(0)  # Return to the starting city\n",
        "    tour.reverse()  # Reverse the path to get the correct order\n",
        "    return min_cost, tour\n",
        "# Example distance matrix\n",
        "distances = [\n",
        "    [0, 10, 15, 20],\n",
        "    [10, 0, 35, 25],\n",
        "    [15, 35, 0, 30],\n",
        "    [20, 25, 30, 0]\n",
        "]\n",
        "min_cost, shortest_path = tsp_with_path(distances)\n",
        "print(\"Minimum cost:\", min_cost)\n",
        "print(\"Shortest path:\", shortest_path)"
      ]
    }
  ]
}