{
  "nbformat": 4,
  "nbformat_minor": 0,
  "metadata": {
    "colab": {
      "provenance": [],
      "authorship_tag": "ABX9TyN1RIUXR3SpUdOWi8j8ypxO",
      "include_colab_link": true
    },
    "kernelspec": {
      "name": "python3",
      "display_name": "Python 3"
    },
    "language_info": {
      "name": "python"
    }
  },
  "cells": [
    {
      "cell_type": "markdown",
      "metadata": {
        "id": "view-in-github",
        "colab_type": "text"
      },
      "source": [
        "<a href=\"https://colab.research.google.com/github/Rojakarilakshmiprasanna/11239A077_DAA_LAB/blob/main/11239A077_EXP7B_MST_KRUSHKALS.ipynb\" target=\"_parent\"><img src=\"https://colab.research.google.com/assets/colab-badge.svg\" alt=\"Open In Colab\"/></a>"
      ]
    },
    {
      "cell_type": "code",
      "execution_count": 1,
      "metadata": {
        "colab": {
          "base_uri": "https://localhost:8080/"
        },
        "id": "44-5gdm3lUwi",
        "outputId": "3fffca78-9314-43b4-99bd-22398dc85131"
      },
      "outputs": [
        {
          "output_type": "stream",
          "name": "stdout",
          "text": [
            "Vertices: [0, 1, 2, 3, 4]\n",
            "Edges and Weights:\n",
            "Edge: (0, 1), Weight: 2\n",
            "Edge: (0, 3), Weight: 6\n",
            "Edge: (1, 2), Weight: 3\n",
            "Edge: (1, 3), Weight: 8\n",
            "Edge: (1, 4), Weight: 5\n",
            "Edge: (2, 4), Weight: 7\n",
            "Edge: (3, 4), Weight: 9\n",
            "\n",
            "Minimum Spanning Tree (MST):\n",
            "Edge: (0, 1), Weight: 2\n",
            "Edge: (1, 2), Weight: 3\n",
            "Edge: (1, 4), Weight: 5\n",
            "Edge: (0, 3), Weight: 6\n",
            "Total Weight of MST: 16\n"
          ]
        }
      ],
      "source": [
        "class Graph:\n",
        "    def __init__(self, vertices):\n",
        "        self.V = vertices  # Number of vertices\n",
        "        self.graph = []    # List to store graph edges\n",
        "\n",
        "    def add_edge(self, u, v, w):\n",
        "        self.graph.append((w, u, v))  # Append edge as (weight, start_vertex, end_vertex)\n",
        "\n",
        "    def find(self, parent, i):\n",
        "        if parent[i] == i:\n",
        "            return i\n",
        "        else:\n",
        "            return self.find(parent, parent[i])\n",
        "\n",
        "    def union(self, parent, rank, x, y):\n",
        "        xroot = self.find(parent, x)\n",
        "        yroot = self.find(parent, y)\n",
        "\n",
        "        if rank[xroot] < rank[yroot]:\n",
        "            parent[xroot] = yroot\n",
        "        elif rank[xroot] > rank[yroot]:\n",
        "            parent[yroot] = xroot\n",
        "        else:\n",
        "            parent[yroot] = xroot\n",
        "            rank[xroot] += 1\n",
        "\n",
        "    def kruskal_mst(self):\n",
        "        # Sort edges based on weight\n",
        "        self.graph.sort()\n",
        "\n",
        "        parent = []\n",
        "        rank = []\n",
        "\n",
        "        # Initialize parent and rank for each vertex\n",
        "        for node in range(self.V):\n",
        "            parent.append(node)\n",
        "            rank.append(0)\n",
        "\n",
        "        mst_edges = []\n",
        "        total_weight = 0\n",
        "\n",
        "        for weight, u, v in self.graph:\n",
        "            x = self.find(parent, u)\n",
        "            y = self.find(parent, v)\n",
        "\n",
        "            # If including this edge does not cause a cycle\n",
        "            if x != y:\n",
        "                mst_edges.append((u, v, weight))\n",
        "                total_weight += weight\n",
        "                self.union(parent, rank, x, y)\n",
        "\n",
        "        return mst_edges, total_weight\n",
        "\n",
        "# Example usage\n",
        "if __name__ == \"__main__\":\n",
        "    g = Graph(5)  # Create a graph with 5 vertices\n",
        "    g.add_edge(0, 1, 2)\n",
        "    g.add_edge(0, 3, 6)\n",
        "    g.add_edge(1, 2, 3)\n",
        "    g.add_edge(1, 3, 8)\n",
        "    g.add_edge(1, 4, 5)\n",
        "    g.add_edge(2, 4, 7)\n",
        "    g.add_edge(3, 4, 9)\n",
        "\n",
        "    print(\"Vertices:\", list(range(g.V)))\n",
        "    print(\"Edges and Weights:\")\n",
        "    for weight, u, v in g.graph:\n",
        "        print(f\"Edge: ({u}, {v}), Weight: {weight}\")\n",
        "\n",
        "    mst_edges, total_weight = g.kruskal_mst()\n",
        "    print(\"\\nMinimum Spanning Tree (MST):\")\n",
        "    for u, v, weight in mst_edges:\n",
        "        print(f\"Edge: ({u}, {v}), Weight: {weight}\")\n",
        "    print(\"Total Weight of MST:\", total_weight)"
      ]
    }
  ]
}