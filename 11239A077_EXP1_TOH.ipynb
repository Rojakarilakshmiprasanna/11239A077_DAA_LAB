{
  "nbformat": 4,
  "nbformat_minor": 0,
  "metadata": {
    "colab": {
      "provenance": [],
      "authorship_tag": "ABX9TyMPVTzgSy5LAfRw5Vt/1qKU",
      "include_colab_link": true
    },
    "kernelspec": {
      "name": "python3",
      "display_name": "Python 3"
    },
    "language_info": {
      "name": "python"
    }
  },
  "cells": [
    {
      "cell_type": "markdown",
      "metadata": {
        "id": "view-in-github",
        "colab_type": "text"
      },
      "source": [
        "<a href=\"https://colab.research.google.com/github/Rojakarilakshmiprasanna/11239A077_DAA_LAB/blob/main/11239A077_EXP1_TOH.ipynb\" target=\"_parent\"><img src=\"https://colab.research.google.com/assets/colab-badge.svg\" alt=\"Open In Colab\"/></a>"
      ]
    },
    {
      "cell_type": "code",
      "execution_count": 1,
      "metadata": {
        "colab": {
          "base_uri": "https://localhost:8080/"
        },
        "id": "7FzbwUGBJH2-",
        "outputId": "489318f4-1ced-4525-f9b5-67588a1c56aa"
      },
      "outputs": [
        {
          "output_type": "stream",
          "name": "stdout",
          "text": [
            "enter no of disks:4\n",
            "Move disk 1 from A to B\n",
            "Move disk 2 from A to C\n",
            "Move disk 1 from B to C\n",
            "Move disk 3 from A to B\n",
            "Move disk 1 from C to A\n",
            "Move disk 2 from C to B\n",
            "Move disk 1 from A to B\n",
            "Move disk 4 from A to C\n",
            "Move disk 1 from B to C\n",
            "Move disk 2 from B to A\n",
            "Move disk 1 from C to A\n",
            "Move disk 3 from B to C\n",
            "Move disk 1 from A to B\n",
            "Move disk 2 from A to C\n",
            "Move disk 1 from B to C\n"
          ]
        }
      ],
      "source": [
        "def tower_of_hanoi(n, source, auxiliary, target):\n",
        "    if n == 1:\n",
        "        print(f\"Move disk 1 from {source} to {target}\")\n",
        "        return\n",
        "    tower_of_hanoi(n-1, source, target, auxiliary)\n",
        "    print(f\"Move disk {n} from {source} to {target}\")\n",
        "    tower_of_hanoi(n-1, auxiliary, source, target)\n",
        "n =int(input(\"enter no of disks:\"))\n",
        "tower_of_hanoi(n, 'A', 'B', 'C')"
      ]
    }
  ]
}