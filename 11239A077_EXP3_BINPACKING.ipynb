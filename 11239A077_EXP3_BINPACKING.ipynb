{
  "nbformat": 4,
  "nbformat_minor": 0,
  "metadata": {
    "colab": {
      "provenance": [],
      "authorship_tag": "ABX9TyPQq/kkeKQ7fULOumamt2O6",
      "include_colab_link": true
    },
    "kernelspec": {
      "name": "python3",
      "display_name": "Python 3"
    },
    "language_info": {
      "name": "python"
    }
  },
  "cells": [
    {
      "cell_type": "markdown",
      "metadata": {
        "id": "view-in-github",
        "colab_type": "text"
      },
      "source": [
        "<a href=\"https://colab.research.google.com/github/Rojakarilakshmiprasanna/11239A077_DAA_LAB/blob/main/11239A077_EXP3_BINPACKING.ipynb\" target=\"_parent\"><img src=\"https://colab.research.google.com/assets/colab-badge.svg\" alt=\"Open In Colab\"/></a>"
      ]
    },
    {
      "cell_type": "code",
      "execution_count": 1,
      "metadata": {
        "colab": {
          "base_uri": "https://localhost:8080/"
        },
        "id": "PDCAhL3yM2Rx",
        "outputId": "220682db-9496-414e-a363-ee920af8ad8d"
      },
      "outputs": [
        {
          "output_type": "stream",
          "name": "stdout",
          "text": [
            "First-Fit Bins: [[5, 2, 3], [7, 1], [8], [6, 4], [9]]\n",
            "Best-Fit Bins: [[5, 3], [7, 2, 1], [8], [6, 4], [9]]\n",
            "Worst-Fit Bins: [[5, 2, 3], [7, 1], [8], [6, 4], [9]]\n"
          ]
        }
      ],
      "source": [
        "def first_fit(items, bin_capacity):\n",
        "    bins = []\n",
        "    for item in items:\n",
        "        placed = False\n",
        "        for bin in bins:\n",
        "            if sum(bin) + item <= bin_capacity:\n",
        "                bin.append(item)\n",
        "                placed = True\n",
        "                break\n",
        "        if not placed:\n",
        "            bins.append([item])\n",
        "    return bins\n",
        "\n",
        "# 2. Best-Fit Algorithm\n",
        "def best_fit(items, bin_capacity):\n",
        "    bins = []\n",
        "    for item in items:\n",
        "        best_bin_index = -1\n",
        "        min_space_left = float('inf')\n",
        "        for i, bin in enumerate(bins):\n",
        "            space_left = bin_capacity - sum(bin)\n",
        "            if space_left >= item and space_left < min_space_left:\n",
        "                best_bin_index = i\n",
        "                min_space_left = space_left\n",
        "        if best_bin_index == -1:\n",
        "            bins.append([item])\n",
        "        else:\n",
        "            bins[best_bin_index].append(item)\n",
        "    return bins\n",
        "\n",
        "# 3. Worst-Fit Algorithm\n",
        "def worst_fit(items, bin_capacity):\n",
        "    bins = []\n",
        "    for item in items:\n",
        "        worst_bin_index = -1\n",
        "        max_space_left = -1\n",
        "        for i, bin in enumerate(bins):\n",
        "            space_left = bin_capacity - sum(bin)\n",
        "            if space_left >= item and space_left > max_space_left:\n",
        "                worst_bin_index = i\n",
        "                max_space_left = space_left\n",
        "        if worst_bin_index == -1:\n",
        "            bins.append([item])\n",
        "        else:\n",
        "            bins[worst_bin_index].append(item)\n",
        "    return bins\n",
        "\n",
        "# Test the algorithms\n",
        "items = [5, 7, 2, 8, 3, 6, 4, 1, 9]\n",
        "bin_capacity = 10\n",
        "\n",
        "# First-Fit\n",
        "first_fit_bins = first_fit(items, bin_capacity)\n",
        "print(\"First-Fit Bins:\", first_fit_bins)\n",
        "\n",
        "# Best-Fit\n",
        "best_fit_bins = best_fit(items, bin_capacity)\n",
        "print(\"Best-Fit Bins:\", best_fit_bins)\n",
        "\n",
        "# Worst-Fit\n",
        "worst_fit_bins = worst_fit(items, bin_capacity)\n",
        "print(\"Worst-Fit Bins:\", worst_fit_bins)\n",
        "\n"
      ]
    }
  ]
}