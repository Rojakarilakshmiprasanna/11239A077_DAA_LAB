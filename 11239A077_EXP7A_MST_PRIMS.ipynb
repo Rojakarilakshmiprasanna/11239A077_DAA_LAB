{
  "nbformat": 4,
  "nbformat_minor": 0,
  "metadata": {
    "colab": {
      "provenance": [],
      "authorship_tag": "ABX9TyPm+zrVZz29I7BbM9qeHR3y",
      "include_colab_link": true
    },
    "kernelspec": {
      "name": "python3",
      "display_name": "Python 3"
    },
    "language_info": {
      "name": "python"
    }
  },
  "cells": [
    {
      "cell_type": "markdown",
      "metadata": {
        "id": "view-in-github",
        "colab_type": "text"
      },
      "source": [
        "<a href=\"https://colab.research.google.com/github/Rojakarilakshmiprasanna/11239A077_DAA_LAB/blob/main/11239A077_EXP7A_MST_PRIMS.ipynb\" target=\"_parent\"><img src=\"https://colab.research.google.com/assets/colab-badge.svg\" alt=\"Open In Colab\"/></a>"
      ]
    },
    {
      "cell_type": "code",
      "execution_count": 1,
      "metadata": {
        "colab": {
          "base_uri": "https://localhost:8080/"
        },
        "id": "HgysvR3ukmHJ",
        "outputId": "af9357a7-41eb-4d1a-e22e-2d1c93070ecd"
      },
      "outputs": [
        {
          "output_type": "stream",
          "name": "stdout",
          "text": [
            "Vertices: [0, 1, 2, 3, 4]\n",
            "Edges and Weights:\n",
            "Edge: (0, 1), Weight: 2\n",
            "Edge: (0, 3), Weight: 6\n",
            "Edge: (1, 2), Weight: 3\n",
            "Edge: (1, 3), Weight: 8\n",
            "Edge: (1, 4), Weight: 5\n",
            "Edge: (2, 4), Weight: 7\n",
            "Edge: (3, 4), Weight: 9\n",
            "\n",
            "Minimum Spanning Tree (MST):\n",
            "Edge: (0, 1), Weight: 2\n",
            "Edge: (1, 2), Weight: 3\n",
            "Edge: (1, 4), Weight: 5\n",
            "Edge: (0, 3), Weight: 6\n",
            "Total Weight of MST: 16\n"
          ]
        }
      ],
      "source": [
        "import heapq\n",
        "\n",
        "class Graph:\n",
        "    def __init__(self, vertices):\n",
        "        self.V = vertices  # Number of vertices\n",
        "        self.graph = []    # List to store graph edges\n",
        "\n",
        "    def add_edge(self, u, v, w):\n",
        "        self.graph.append((w, u, v))  # Append edge as (weight, start_vertex, end_vertex)\n",
        "\n",
        "    def prim_mst(self):\n",
        "        # Sort edges based on weight\n",
        "        self.graph.sort()\n",
        "\n",
        "        # Create a priority queue to store the edges\n",
        "        pq = []\n",
        "        # To keep track of vertices included in MST\n",
        "        in_mst = [False] * self.V\n",
        "        # Start from the first vertex\n",
        "        in_mst[0] = True\n",
        "        # Add all edges from the first vertex to the priority queue\n",
        "        for weight, u, v in self.graph:\n",
        "            if u == 0 or v == 0:\n",
        "                heapq.heappush(pq, (weight, u, v))\n",
        "\n",
        "        mst_edges = []\n",
        "        total_weight = 0\n",
        "\n",
        "        while pq:\n",
        "            weight, u, v = heapq.heappop(pq)\n",
        "            if not in_mst[v]:\n",
        "                in_mst[v] = True\n",
        "                mst_edges.append((u, v, weight))\n",
        "                total_weight += weight\n",
        "\n",
        "                # Add all edges from the newly added vertex to the priority queue\n",
        "                for next_weight, next_u, next_v in self.graph:\n",
        "                    if (next_u == v and not in_mst[next_v]) or (next_v == v and not in_mst[next_u]):\n",
        "                        heapq.heappush(pq, (next_weight, next_u, next_v))\n",
        "\n",
        "        return mst_edges, total_weight\n",
        "\n",
        "# Example usage\n",
        "if __name__ == \"__main__\":\n",
        "    g = Graph(5)  # Create a graph with 5 vertices\n",
        "    g.add_edge(0, 1, 2)\n",
        "    g.add_edge(0, 3, 6)\n",
        "    g.add_edge(1, 2, 3)\n",
        "    g.add_edge(1, 3, 8)\n",
        "    g.add_edge(1, 4, 5)\n",
        "    g.add_edge(2, 4, 7)\n",
        "    g.add_edge(3, 4, 9)\n",
        "\n",
        "    print(\"Vertices:\", list(range(g.V)))\n",
        "    print(\"Edges and Weights:\")\n",
        "    for weight, u, v in g.graph:\n",
        "        print(f\"Edge: ({u}, {v}), Weight: {weight}\")\n",
        "\n",
        "    mst_edges, total_weight = g.prim_mst()\n",
        "    print(\"\\nMinimum Spanning Tree (MST):\")\n",
        "    for u, v, weight in mst_edges:\n",
        "        print(f\"Edge: ({u}, {v}), Weight: {weight}\")\n",
        "    print(\"Total Weight of MST:\", total_weight)"
      ]
    }
  ]
}